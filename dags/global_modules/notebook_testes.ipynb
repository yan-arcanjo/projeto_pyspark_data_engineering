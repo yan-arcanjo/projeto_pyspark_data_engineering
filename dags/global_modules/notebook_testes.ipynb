{
 "cells": [
  {
   "cell_type": "code",
   "execution_count": 3,
   "id": "21773b4c",
   "metadata": {},
   "outputs": [],
   "source": [
    "import requests\n",
    "import json\n",
    "from pyspark.sql import SparkSession\n",
    "from pyspark.sql.functions import col, lit, concat_ws, sha2, row_number, upper, when, trim\n",
    "from pyspark.sql.window import Window\n",
    "from delta import *\n",
    "from datetime import datetime\n",
    "import logging"
   ]
  },
  {
   "cell_type": "code",
   "execution_count": 3,
   "id": "d4ffb113",
   "metadata": {},
   "outputs": [],
   "source": [
    "process = \"coingecko\"\n",
    "\n",
    "# Configuração do logging\n",
    "logging.basicConfig(level=logging.INFO, format=\"%(asctime)s - %(levelname)s - %(message)s\")\n",
    "\n",
    "# Definição de variáveis temporais para controle de execução\n",
    "date_time_exec = datetime.now()                                                # Timestamp da execução atual\n",
    "data_hora_inicio_file = date_time_exec.strftime(\"%Y%m%d_%H%M%S\")              # Formato para nomes de arquivo: 20240501_130511\n",
    "data_hora_inicio_format_db = date_time_exec.strftime(\"%Y-%m-%d %H:%M:%S\")      # Formato para banco: 2024-05-01 13:05:11\n",
    "\n",
    "input_path = f\"/mnt/c/Users/arcan/Documents/airflow/data/2-bronze/{process}\"\n",
    "output_path = f\"/mnt/c/Users/arcan/Documents/airflow/data/3-silver/{process}\"\n",
    "log_file_path = f\"/mnt/c/Users/arcan/Documents/airflow/data/5-logs/2-silver/{process}\""
   ]
  },
  {
   "cell_type": "code",
   "execution_count": 4,
   "id": "491850de",
   "metadata": {},
   "outputs": [
    {
     "name": "stderr",
     "output_type": "stream",
     "text": [
      "your 131072x1 screen size is bogus. expect trouble\n",
      "25/06/21 16:18:18 WARN Utils: Your hostname, YanArcanjo resolves to a loopback address: 127.0.1.1; using 10.255.255.254 instead (on interface lo)\n",
      "25/06/21 16:18:18 WARN Utils: Set SPARK_LOCAL_IP if you need to bind to another address\n"
     ]
    },
    {
     "name": "stdout",
     "output_type": "stream",
     "text": [
      ":: loading settings :: url = jar:file:/mnt/c/Users/arcan/Documents/airflow/.venv/lib/python3.10/site-packages/pyspark/jars/ivy-2.5.1.jar!/org/apache/ivy/core/settings/ivysettings.xml\n"
     ]
    },
    {
     "name": "stderr",
     "output_type": "stream",
     "text": [
      "Ivy Default Cache set to: /home/yanarcanjo/.ivy2/cache\n",
      "The jars for the packages stored in: /home/yanarcanjo/.ivy2/jars\n",
      "io.delta#delta-core_2.12 added as a dependency\n",
      ":: resolving dependencies :: org.apache.spark#spark-submit-parent-72228f4f-1b62-4e3c-89a8-43d5bc791a8a;1.0\n",
      "\tconfs: [default]\n",
      "\tfound io.delta#delta-core_2.12;2.4.0 in central\n",
      "\tfound io.delta#delta-storage;2.4.0 in central\n",
      "\tfound org.antlr#antlr4-runtime;4.9.3 in central\n",
      ":: resolution report :: resolve 256ms :: artifacts dl 14ms\n",
      "\t:: modules in use:\n",
      "\tio.delta#delta-core_2.12;2.4.0 from central in [default]\n",
      "\tio.delta#delta-storage;2.4.0 from central in [default]\n",
      "\torg.antlr#antlr4-runtime;4.9.3 from central in [default]\n",
      "\t---------------------------------------------------------------------\n",
      "\t|                  |            modules            ||   artifacts   |\n",
      "\t|       conf       | number| search|dwnlded|evicted|| number|dwnlded|\n",
      "\t---------------------------------------------------------------------\n",
      "\t|      default     |   3   |   0   |   0   |   0   ||   3   |   0   |\n",
      "\t---------------------------------------------------------------------\n",
      ":: retrieving :: org.apache.spark#spark-submit-parent-72228f4f-1b62-4e3c-89a8-43d5bc791a8a\n",
      "\tconfs: [default]\n",
      "\t0 artifacts copied, 3 already retrieved (0kB/8ms)\n",
      "25/06/21 16:18:19 WARN NativeCodeLoader: Unable to load native-hadoop library for your platform... using builtin-java classes where applicable\n",
      "Setting default log level to \"WARN\".\n",
      "To adjust logging level use sc.setLogLevel(newLevel). For SparkR, use setLogLevel(newLevel).\n",
      "25/06/21 16:18:25 WARN Utils: Service 'SparkUI' could not bind on port 4040. Attempting port 4041.\n"
     ]
    }
   ],
   "source": [
    "spark = SparkSession.builder \\\n",
    "    .appName(\"Spark - Silver\") \\\n",
    "    .master(\"local[*]\") \\\n",
    "    .config(\"spark.jars.packages\", \"io.delta:delta-core_2.12:2.4.0\") \\\n",
    "    .config(\"spark.sql.extensions\", \"io.delta.sql.DeltaSparkSessionExtension\") \\\n",
    "    .config(\"spark.sql.catalog.spark_catalog\", \"org.apache.spark.sql.delta.catalog.DeltaCatalog\") \\\n",
    "    .getOrCreate() "
   ]
  },
  {
   "cell_type": "code",
   "execution_count": 9,
   "id": "309eb4ef",
   "metadata": {},
   "outputs": [
    {
     "name": "stderr",
     "output_type": "stream",
     "text": [
      "25/06/21 15:00:17 WARN package: Truncated the string representation of a plan since it was too large. This behavior can be adjusted by setting 'spark.sql.debug.maxToStringFields'.\n",
      "[Stage 9:>                                                          (0 + 4) / 4]\r"
     ]
    },
    {
     "name": "stdout",
     "output_type": "stream",
     "text": [
      "+--------+---------------------+------------------------+----------+---------------------+------------------------+--------------------+-------------+-----------------------+--------+--------------------------------------------------+----------------------------------------------------------------------------------------------------+------------------------+--------+-----------+---------------------+--------------------------------+---------------+--------------------+--------------------------------------------------+---------------------+---------------------------+-------+--------------------+-------------+-----------------------------------------------------------------------------------+-------------------+-----------+------------------------------------------------------------------------------------------+----------------------------------------------------------------+----------------------------------------------------------------+\n",
      "|ath     |ath_change_percentage|ath_date                |atl       |atl_change_percentage|atl_date                |circulating_supply  |current_price|fully_diluted_valuation|high_24h|id                                                |image                                                                                               |last_updated            |low_24h |market_cap |market_cap_change_24h|market_cap_change_percentage_24h|market_cap_rank|max_supply          |name                                              |price_change_24h     |price_change_percentage_24h|symbol |total_supply        |total_volume |key_log_file_path                                                                  |dt_atualizacao     |dt_ingestao|nm_arquivo_origem                                                                         |hash_chave                                                      |hash_columns                                                    |\n",
      "+--------+---------------------+------------------------+----------+---------------------+------------------------+--------------------+-------------+-----------------------+--------+--------------------------------------------------+----------------------------------------------------------------------------------------------------+------------------------+--------+-----------+---------------------+--------------------------------+---------------+--------------------+--------------------------------------------------+---------------------+---------------------------+-------+--------------------+-------------+-----------------------------------------------------------------------------------+-------------------+-----------+------------------------------------------------------------------------------------------+----------------------------------------------------------------+----------------------------------------------------------------+\n",
      "|11.74   |-92.06134            |2024-03-10T00:10:42.330Z|0.583741  |59.6679              |2025-04-07T07:06:11.379Z|1.633961771739971E9 |0.930806     |9319957363             |0.968649|worldcoin-wld                                     |https://coin-images.coingecko.com/coins/images/31069/large/worldcoin.jpeg?1696529903                |2025-06-19T18:49:29.844Z|0.902124|1522845405 |3.4071737E7          |2.28858                         |69             |1.0E10              |Worldcoin                                         |0.0199089            |2.18564                    |wld    |1.0E10              |1.9751632E8  |/mnt/c/Users/arcan/Documents/airflow/data/5-logs/1-bronze/coingecko_20250619_154930|2025-06-19 15:49:30|2025-06-19 |/mnt/c/Users/arcan/Documents/airflow/data/1-stage/coingecko/coingecko_20250619_154930.json|05df50c03e112a95bec353271c3a67fc0f77786c5599be337936b0c9c3b5419c|4a563c9b3a3c2121f5fac417ca3d8c0c42b859ac65ecdd75e34b47f775ed892c|\n",
      "|0.100535|-20.13051            |2024-12-04T10:13:57.264Z|0.03582727|124.12252            |2025-02-03T05:01:48.626Z|2.131511481956947E10|0.080185     |2292393018             |0.084794|sky                                               |https://coin-images.coingecko.com/coins/images/39925/large/sky.jpg?1724827980                       |2025-06-19T18:49:20.551Z|0.079823|1711539405 |-3.722733710587239E7 |-2.12878                        |64             |null                |Sky                                               |-0.001767743478258518|-2.15702                   |sky    |2.854893100921486E10|9796882.0    |/mnt/c/Users/arcan/Documents/airflow/data/5-logs/1-bronze/coingecko_20250619_154930|2025-06-19 15:49:30|2025-06-19 |/mnt/c/Users/arcan/Documents/airflow/data/1-stage/coingecko/coingecko_20250619_154930.json|05f514fae7ca5710f9e9289a20a5c9b372af781bfc94dd23d9cb8a044122460f|0f579dd072000c3b75f72f5c0015750f12ac54ab4bcce5d1fed3111ef6dfed1e|\n",
      "|73.43   |-87.33073            |2025-01-19T11:50:34.806Z|4.29      |116.82204            |2025-01-18T03:40:29.231Z|1.99999975635993E8  |9.3          |9302828779             |9.44    |official-trump                                    |https://coin-images.coingecko.com/coins/images/53746/large/trump.png?1737171561                     |2025-06-19T18:49:26.317Z|9.22    |1860565529 |2262862.0            |0.12177                         |57             |1.0E9               |Official Trump                                    |0.01887333           |0.20331                    |trump  |1.0E9               |1.84666751E8 |/mnt/c/Users/arcan/Documents/airflow/data/5-logs/1-bronze/coingecko_20250619_154930|2025-06-19 15:49:30|2025-06-19 |/mnt/c/Users/arcan/Documents/airflow/data/1-stage/coingecko/coingecko_20250619_154930.json|06e360a6a21d4fe0b438380d23fe07eda682ba5c061e31b0a95af9ef358ed641|c36642c492c2ca2f78ef4416178506dab0e4d73b924a30df6946a034943d5057|\n",
      "|1.0     |0.0                  |2025-02-12T05:00:10.912Z|1.0       |0.0                  |2025-02-12T05:45:10.196Z|2.895313241233855E9 |1.0          |2895313241             |1.0     |blackrock-usd-institutional-digital-liquidity-fund|https://coin-images.coingecko.com/coins/images/36291/large/blackrock.png?1711013223                 |2025-06-19T18:40:01.848Z|1.0     |2895313241 |-5011381.4599990845  |-0.17279                        |43             |null                |BlackRock USD Institutional Digital Liquidity Fund|0.0                  |0.0                        |buidl  |2.895313241233855E9 |0.0          |/mnt/c/Users/arcan/Documents/airflow/data/5-logs/1-bronze/coingecko_20250619_154930|2025-06-19 15:49:30|2025-06-19 |/mnt/c/Users/arcan/Documents/airflow/data/1-stage/coingecko/coingecko_20250619_154930.json|0943e7c5ab8c82bf9363901ec726936628de0b202c26ad322aed891c17ae7a9f|4651af2591a6e6cd8066072b4f1c2127dd6f309e96250c5bd5f0709691f3ddea|\n",
      "|44.92   |-83.11534            |2021-05-03T05:25:04.822Z|1.03      |636.21378            |2020-09-17T01:20:38.214Z|6.0048307371E8      |7.57         |7572929700             |7.93    |uniswap                                           |https://coin-images.coingecko.com/coins/images/12504/large/uniswap-logo.png?1720676669              |2025-06-19T18:49:19.539Z|7.34    |4547416103 |7.2253768E7          |1.61455                         |35             |1.0E9               |Uniswap                                           |0.139602             |1.87995                    |uni    |1.0E9               |5.29947524E8 |/mnt/c/Users/arcan/Documents/airflow/data/5-logs/1-bronze/coingecko_20250619_154930|2025-06-19 15:49:30|2025-06-19 |/mnt/c/Users/arcan/Documents/airflow/data/1-stage/coingecko/coingecko_20250619_154930.json|0cb888d14a26697c116689ec90a252163136239564639c051971d681a7d80dac|d276fbae5cb012c5e4a914d2e528c178786fcd98d69824b0a9143d012e8d2f08|\n",
      "|4799.89 |-47.73791            |2021-11-09T00:00:00.000Z|82.1      |2955.32325           |2018-12-15T00:00:00.000Z|2636506.336653426   |2507.15      |6608922025             |2543.98 |weth                                              |https://coin-images.coingecko.com/coins/images/2518/large/weth.png?1696503332                       |2025-06-19T18:49:24.133Z|2475.22 |6610360839 |2.587838E7           |0.39302                         |25             |null                |WETH                                              |6.95                 |0.27788                    |weth   |2635932.473901751   |7.7032687E7  |/mnt/c/Users/arcan/Documents/airflow/data/5-logs/1-bronze/coingecko_20250619_154930|2025-06-19 15:49:30|2025-06-19 |/mnt/c/Users/arcan/Documents/airflow/data/1-stage/coingecko/coingecko_20250619_154930.json|11a8ecce39c024544e74540571098f9709ee36c22e78eab83724e085141a95ec|7bb0c3bd63be74af3cf348f608ade9daa0231e5f2365593c3561bf7b725524b2|\n",
      "|5.03    |-13.28489            |2025-01-19T14:31:08.348Z|0.146839  |2868.87919           |2023-11-24T05:55:06.706Z|3.42736847017231E8  |4.36         |1494122575             |4.39    |jupiter-perpetuals-liquidity-provider-token       |https://coin-images.coingecko.com/coins/images/33094/large/jlp.png?1700631386                       |2025-06-19T18:49:25.610Z|4.33    |1494153295 |-1876114.411879301   |-0.12541                        |72             |null                |Jupiter Perpetuals Liquidity Provider Token       |-0.004302071817192221|-0.09857                   |jlp    |3.42729800245656E8  |3.0617152E7  |/mnt/c/Users/arcan/Documents/airflow/data/5-logs/1-bronze/coingecko_20250619_154930|2025-06-19 15:49:30|2025-06-19 |/mnt/c/Users/arcan/Documents/airflow/data/1-stage/coingecko/coingecko_20250619_154930.json|11fc970db3263366e17b5375710e2606f78cc9b8f1af8a481f3d0c1f569a2b8e|d7b23242ed2f212dacd36473691e353967d0cbc2b977f2b6e294a36946f8e53a|\n",
      "|20.85   |-92.18814            |2024-02-10T14:30:02.495Z|1.6       |1.49801              |2025-06-17T17:21:42.692Z|6.78486716146558E8  |1.63         |1839371932             |1.71    |celestia                                          |https://coin-images.coingecko.com/coins/images/31967/large/tia.jpg?1696530772                       |2025-06-19T18:49:28.785Z|1.62    |1104977163 |-2.973731754644251E7 |-2.62069                        |85             |null                |Celestia                                          |-0.04776591766879834 |-2.85021                   |tia    |1.129425534246195E9 |6.15903E7    |/mnt/c/Users/arcan/Documents/airflow/data/5-logs/1-bronze/coingecko_20250619_154930|2025-06-19 15:49:30|2025-06-19 |/mnt/c/Users/arcan/Documents/airflow/data/1-stage/coingecko/coingecko_20250619_154930.json|13569e544705849042059c1e3092cd39a934f4501f3078b0218a8e688cbfd0f9|91ac906eb167fe7137cec381a50031a34087c7a6e554f8eaff986f65b833169c|\n",
      "|2.39    |-87.45451            |2024-01-12T12:29:59.231Z|0.245747  |22.02496             |2025-04-07T07:01:34.124Z|4.963238296E9       |0.299059     |2993733383             |0.31095 |arbitrum                                          |https://coin-images.coingecko.com/coins/images/16547/large/arb.jpg?1721358242                       |2025-06-19T18:49:23.520Z|0.297381|1485861217 |-3375980.3945662975  |-0.22669                        |73             |1.0E10              |Arbitrum                                          |-0.001634929626159354|-0.54372                   |arb    |1.0E10              |1.62086279E8 |/mnt/c/Users/arcan/Documents/airflow/data/5-logs/1-bronze/coingecko_20250619_154930|2025-06-19 15:49:30|2025-06-19 |/mnt/c/Users/arcan/Documents/airflow/data/1-stage/coingecko/coingecko_20250619_154930.json|143b9b70edf76467d576ad45e2efa5cfbacb2c63bf0f3ed9bcb8c9f17adcb89e|b1ed1e8d8a344890aedfad383a205fa66f8a2626e0b3f35d025d331db34eb424|\n",
      "|1.021   |-2.05616             |2023-10-23T22:44:57.056Z|0.959426  |4.20285              |2024-12-05T22:31:13.430Z|9.47319173190118E8  |0.999663     |947081750              |1.0     |paypal-usd                                        |https://coin-images.coingecko.com/coins/images/31212/large/PYUSD_Logo_%282%29.png?1696530039        |2025-06-19T18:49:21.166Z|0.9992  |947081750  |7532147.0            |0.80168                         |96             |null                |PayPal USD                                        |-3.0513363521889E-5  |-0.00305                   |pyusd  |9.47319173190118E8  |1.260401E7   |/mnt/c/Users/arcan/Documents/airflow/data/5-logs/1-bronze/coingecko_20250619_154930|2025-06-19 15:49:30|2025-06-19 |/mnt/c/Users/arcan/Documents/airflow/data/1-stage/coingecko/coingecko_20250619_154930.json|14a012d96cf1f69dc7a012c4a3017557b1c775b61c2b71c794b51cbdd01bd9d9|502450c4b3c41b3d5f01b44a83ec79ffe5d436de6820f3a81540f5677910532e|\n",
      "|28.83   |-61.6184             |2021-12-01T15:09:35.541Z|0.342863  |3127.34489           |2019-02-07T00:00:00.000Z|1.250029997819991E8 |11.07        |1577630917             |11.11   |kucoin-shares                                     |https://coin-images.coingecko.com/coins/images/1047/large/sa9z79.png?1696502152                     |2025-06-19T18:49:28.793Z|11.02   |1383890848 |1355921.0            |0.09807                         |77             |null                |KuCoin                                            |0.02121704           |0.192                      |kcs    |1.425029997819991E8 |3405514.0    |/mnt/c/Users/arcan/Documents/airflow/data/5-logs/1-bronze/coingecko_20250619_154930|2025-06-19 15:49:30|2025-06-19 |/mnt/c/Users/arcan/Documents/airflow/data/1-stage/coingecko/coingecko_20250619_154930.json|1798a0a2c5a2ab5372b83acf045bd2597397093b96a3fd6d657faf97ccc71f89|6f7c5e1f61df566eb6eed82bc265a48cb5f54fd952986c4d525570f62bee00e8|\n",
      "|700.65  |-99.28054            |2021-05-10T16:05:53.653Z|2.87      |75.94537             |2023-09-22T00:29:57.369Z|5.347711486834824E8 |5.03         |2691682945             |5.17    |internet-computer                                 |https://coin-images.coingecko.com/coins/images/14495/large/Internet_Computer_logo.png?1696514180    |2025-06-19T18:49:27.844Z|4.98    |2691682945 |-1.5109920238360882E7|-0.55822                        |46             |null                |Internet Computer                                 |-0.028579751577930246|-0.56497                   |icp    |5.347711486834824E8 |4.4172933E7  |/mnt/c/Users/arcan/Documents/airflow/data/5-logs/1-bronze/coingecko_20250619_154930|2025-06-19 15:49:30|2025-06-19 |/mnt/c/Users/arcan/Documents/airflow/data/1-stage/coingecko/coingecko_20250619_154930.json|18d4edafb9dffd185810161c9361c3bc5d63c12f60ea0652feae95b816bd8d94|f63a87ac977043f5b707882f5dc93e044ddb1b613acc0fdd4fc22b93e832b830|\n",
      "|661.69  |-61.80789            |2021-05-18T21:19:59.514Z|26.02     |871.11003            |2020-11-05T09:20:11.928Z|1.5161126156362595E7|252.44       |4040378993             |265.82  |aave                                              |https://coin-images.coingecko.com/coins/images/12645/large/aave-token-round.png?1720472354          |2025-06-19T18:49:22.133Z|249.81  |3828543477 |-1.0303705938617039E8|-2.62075                        |38             |1.6E7               |Aave                                              |-6.754198018401496   |-2.60588                   |aave   |1.6E7               |4.89630124E8 |/mnt/c/Users/arcan/Documents/airflow/data/5-logs/1-bronze/coingecko_20250619_154930|2025-06-19 15:49:30|2025-06-19 |/mnt/c/Users/arcan/Documents/airflow/data/1-stage/coingecko/coingecko_20250619_154930.json|1a11bddc4396ca460d2996b1a1bc6ee02477089fe30b514532bb72dad42789e2|b21e682fc2cdd83db277ec55bb765744e1e38279f6fdfb1d570cb420ceaf585a|\n",
      "|4098.26 |-38.78668            |2024-12-06T20:27:27.286Z|1394.32   |79.92167             |2025-04-09T01:32:41.942Z|604999.999959841    |2508.0       |1517764679             |2542.84 |binance-peg-weth                                  |https://coin-images.coingecko.com/coins/images/39580/large/weth.png?1723006716                      |2025-06-19T18:49:19.115Z|2485.18 |1517764679 |6416167.0            |0.42453                         |70             |null                |Binance-Peg WETH                                  |12.31                |0.49308                    |weth   |604999.999959841    |4.5481342E7  |/mnt/c/Users/arcan/Documents/airflow/data/5-logs/1-bronze/coingecko_20250619_154930|2025-06-19 15:49:30|2025-06-19 |/mnt/c/Users/arcan/Documents/airflow/data/1-stage/coingecko/coingecko_20250619_154930.json|20a978ec7bc62a5d858c34dad3022f99d5eac9cb6830748bddb46b6de2e4b30e|fe2d436f0b5ea08e2de99b6fb778ca89f5b4dc57131059daf8ec6fa407f1b6dc|\n",
      "|5.825E-5|-75.7424             |2024-11-20T04:01:06.465Z|8.6142E-8 |16303.165            |2022-12-29T22:48:46.755Z|7.741959232943658E13|1.411E-5     |1254468080             |1.451E-5|bonk                                              |https://coin-images.coingecko.com/coins/images/28600/large/bonk.jpg?1696527587                      |2025-06-19T18:49:27.167Z|1.381E-5|1093709317 |9101550.0            |0.83916                         |88             |8.879910394880052E13|Bonk                                              |1.18569E-7           |0.84727                    |bonk   |8.879910394880052E13|1.16801519E8 |/mnt/c/Users/arcan/Documents/airflow/data/5-logs/1-bronze/coingecko_20250619_154930|2025-06-19 15:49:30|2025-06-19 |/mnt/c/Users/arcan/Documents/airflow/data/1-stage/coingecko/coingecko_20250619_154930.json|21749f1628aa21d31e1b225048909f410a3335192abf7c1558836fbbb6310328|1141e88a1a80739d06a012d3648b06b9ff22ec00bd9b4b2cbf614bd71cc64893|\n",
      "|1.025   |-2.42614             |2025-05-12T12:36:39.412Z|0.989703  |1.03659              |2025-04-16T00:36:15.580Z|2.199087586E9       |0.999709     |2198749892             |1.002   |usd1-wlfi                                         |https://coin-images.coingecko.com/coins/images/54977/large/USD1_1000x1000_transparent.png?1749297002|2025-06-19T18:49:22.831Z|0.995927|2198749892 |4409465.0            |0.20095                         |53             |null                |USD1                                              |2.698E-4             |0.027                      |usd1   |2.199087586E9       |5.48989578E8 |/mnt/c/Users/arcan/Documents/airflow/data/5-logs/1-bronze/coingecko_20250619_154930|2025-06-19 15:49:30|2025-06-19 |/mnt/c/Users/arcan/Documents/airflow/data/1-stage/coingecko/coingecko_20250619_154930.json|22e9cf436be31fc117d1342192b2690152590b2233380d30bca685bdac1d9558|f8c996fb1d524a669e1a8fdcefaca514092849a18fa4a7f6faf51634182cc797|\n",
      "|1.17    |-14.74413            |2019-05-08T00:40:28.300Z|0.877647  |13.91838             |2023-03-11T08:02:13.981Z|6.13850209071989E10 |0.999799     |61372905698            |0.999903|usd-coin                                          |https://coin-images.coingecko.com/coins/images/6319/large/usdc.png?1696506694                       |2025-06-19T18:49:23.931Z|0.999699|61373089105|-1.1915156312195587E8|-0.19377                        |7              |null                |USDC                                              |-5.927470939637E-6   |-5.9E-4                    |usdc   |6.138483746500593E10|6.514594777E9|/mnt/c/Users/arcan/Documents/airflow/data/5-logs/1-bronze/coingecko_20250619_154930|2025-06-19 15:49:30|2025-06-19 |/mnt/c/Users/arcan/Documents/airflow/data/1-stage/coingecko/coingecko_20250619_154930.json|230ff45bb8b702d203d98bf1b5a6ef6b645749eb5708810edaac7e2d33c7ce10|213fe972159fd4019af458d6dd7c6a18284294c7a884c712769edef1b1615c82|\n",
      "|0.875563|-71.49725            |2018-01-03T00:00:00.000Z|4.7612E-4 |52314.88459          |2015-03-05T00:00:00.000Z|3.121133389335128E10|0.249432     |12472836339            |0.252818|stellar                                           |https://coin-images.coingecko.com/coins/images/100/large/fmpFRHHQ_400x400.jpg?1735231350            |2025-06-19T18:49:28.460Z|0.24775 |7785598951 |-1.3110630372700691E7|-0.16811                        |19             |5.000178689281785E10|Stellar                                           |-3.20114088649459E-4 |-0.12817                   |xlm    |5.000178689281785E10|1.23895965E8 |/mnt/c/Users/arcan/Documents/airflow/data/5-logs/1-bronze/coingecko_20250619_154930|2025-06-19 15:49:30|2025-06-19 |/mnt/c/Users/arcan/Documents/airflow/data/1-stage/coingecko/coingecko_20250619_154930.json|232ed6f9fabf14e3bb55392b18cfe3d0febc94d20cc6327c38a1d075d6ea118c|7131c2eedc051d6ab7e37692cd3e9c61d9c2a2f69215aa5852120573b3eefee1|\n",
      "|5.35    |-46.96413            |2025-01-04T22:56:18.063Z|0.364846  |677.20364            |2023-10-19T10:40:30.078Z|3.396671135364443E9 |2.84         |28360055112            |2.86    |sui                                               |https://coin-images.coingecko.com/coins/images/26375/large/sui-ocean-square.png?1727791290          |2025-06-19T18:49:19.881Z|2.77    |9632978060 |1.32258215E8         |1.39209                         |16             |1.0E10              |Sui                                               |0.03895854           |1.39309                    |sui    |1.0E10              |6.87879012E8 |/mnt/c/Users/arcan/Documents/airflow/data/5-logs/1-bronze/coingecko_20250619_154930|2025-06-19 15:49:30|2025-06-19 |/mnt/c/Users/arcan/Documents/airflow/data/1-stage/coingecko/coingecko_20250619_154930.json|244e4b24e667ebf0ca798e496f1008b7389503c6a3975d0562e907f93997fdca|f4a03abf72798720012c3df1a8022bbe3f507dd457e307dc99198dc1d34238bf|\n",
      "|5.07    |-66.94634            |2025-01-02T06:15:38.599Z|0.00748604|22263.91519          |2024-01-23T20:55:21.653Z|6.548656182293383E8 |1.67         |1674007544             |1.73    |virtual-protocol                                  |https://coin-images.coingecko.com/coins/images/34057/large/LOGOMARK.png?1708356054                  |2025-06-19T18:49:20.834Z|1.63    |1096249985 |1.3480047E7          |1.24496                         |87             |1.0E9               |Virtuals Protocol                                 |0.01997439           |1.20839                    |virtual|1.0E9               |1.71155473E8 |/mnt/c/Users/arcan/Documents/airflow/data/5-logs/1-bronze/coingecko_20250619_154930|2025-06-19 15:49:30|2025-06-19 |/mnt/c/Users/arcan/Documents/airflow/data/1-stage/coingecko/coingecko_20250619_154930.json|25a2e2d309e240686c5bcbdbddbfb2d4bc252cc15c7da43d96025e0647ea5bd0|2318d7aeaaf62b197654847ad7677dce3cbf388504b401f326f590f9c7dbfcda|\n",
      "+--------+---------------------+------------------------+----------+---------------------+------------------------+--------------------+-------------+-----------------------+--------+--------------------------------------------------+----------------------------------------------------------------------------------------------------+------------------------+--------+-----------+---------------------+--------------------------------+---------------+--------------------+--------------------------------------------------+---------------------+---------------------------+-------+--------------------+-------------+-----------------------------------------------------------------------------------+-------------------+-----------+------------------------------------------------------------------------------------------+----------------------------------------------------------------+----------------------------------------------------------------+\n",
      "only showing top 20 rows\n",
      "\n"
     ]
    },
    {
     "name": "stderr",
     "output_type": "stream",
     "text": [
      "                                                                                \r"
     ]
    }
   ],
   "source": [
    "df_bronze = DeltaTable.forPath(spark, input_path).toDF()\n",
    "\n",
    "df_bronze = df_bronze.withColumn(\"dt_atualizacao\", col(\"dt_atualizacao\").cast(\"timestamp\"))\n",
    "\n",
    "window_spec = Window.partitionBy(\"hash_chave\").orderBy(col(\"dt_atualizacao\").desc())\n",
    "\n",
    "df_bronze = df_bronze.withColumn(\"rank_hash_chave\", row_number().over(window_spec)).filter(col(\"rank_hash_chave\") == 1).drop(\"rank_hash_chave\")\n",
    "\n",
    "if DeltaTable.isDeltaTable(spark, output_path):\n",
    "    df_silver_original = spark.read.format(\"delta\").load(output_path)\n",
    "    df_silver_new = df_bronze.join(df_silver_original, df_bronze.hash_colums == df_silver_original.hash_columns, \"left_anti\")\n",
    "else:\n",
    "    df_silver_new = df_bronze\n",
    "\n",
    "df_silver_new.show(truncate=False)"
   ]
  },
  {
   "cell_type": "code",
   "execution_count": 10,
   "id": "61b58f83",
   "metadata": {},
   "outputs": [],
   "source": [
    "string_cols = [field.name for field in df_silver_new.schema.fields if str(field.dataType) == \"StringType()\" and field.name not in ['hash_columns','hash_chave']]\n",
    "for col_name in string_cols:\n",
    "    #df_sz_new = df_sz_new.withColumn(col_name, trim(upper(when(col(col_name).isNotNull(), col(col_name)).otherwise(''))))\n",
    "    df_silver_new = df_silver_new.withColumn(col_name, trim(upper(when(col(col_name) == '', None).otherwise(col(col_name)))))\n",
    "\n",
    "df_silver_new = df_silver_new.drop('key_log_file_path','dt_atualizacao','dt_ingestao','nm_arquivo_origem')\n",
    "\n",
    "#Adiciona coluna de ID de log\n",
    "df_silver_new = df_silver_new.withColumns({\n",
    "    \"key_log_file_path\": lit(f'{log_file_path}_{data_hora_inicio_file}'),\n",
    "    \"dt_atualizacao\": lit(data_hora_inicio_format_db),\n",
    "    \"dt_ingestao\": lit(datetime.now().strftime(\"%Y-%m-%d\")),\n",
    "    \"nm_arquivo_origem\": lit(input_path),\n",
    "    })"
   ]
  },
  {
   "cell_type": "code",
   "execution_count": 11,
   "id": "5a72d170",
   "metadata": {},
   "outputs": [
    {
     "name": "stderr",
     "output_type": "stream",
     "text": [
      "                                                                                \r"
     ]
    }
   ],
   "source": [
    "if DeltaTable.isDeltaTable(spark, output_path):\n",
    "    df_silver = DeltaTable.forPath(spark, output_path)\n",
    "\n",
    "    df.silver.alias(\"silver\")\\\n",
    "        .merge(df_silver_new.alias(\"bronze\"), \"silver.hash_chave = bronze.hash_chave\") \\\n",
    "        .whenNotMatchedInsertAll()\\\n",
    "        .whenMatchedUpdateAll()\\\n",
    "        .execute()\n",
    "\n",
    "else:\n",
    "    df_silver_new.write.format('delta').mode(\"append\").option(\"mergeSchema\", \"true\").save(output_path)"
   ]
  },
  {
   "cell_type": "code",
   "execution_count": 1,
   "id": "b1b1fba3",
   "metadata": {},
   "outputs": [
    {
     "name": "stderr",
     "output_type": "stream",
     "text": [
      "2025-06-21 15:30:51,020 - INFO - Iniciando criação da Spark Session\n",
      "your 131072x1 screen size is bogus. expect trouble\n",
      "25/06/21 15:30:56 WARN Utils: Your hostname, YanArcanjo resolves to a loopback address: 127.0.1.1; using 10.255.255.254 instead (on interface lo)\n",
      "25/06/21 15:30:56 WARN Utils: Set SPARK_LOCAL_IP if you need to bind to another address\n"
     ]
    },
    {
     "name": "stdout",
     "output_type": "stream",
     "text": [
      ":: loading settings :: url = jar:file:/mnt/c/Users/arcan/Documents/airflow/.venv/lib/python3.10/site-packages/pyspark/jars/ivy-2.5.1.jar!/org/apache/ivy/core/settings/ivysettings.xml\n"
     ]
    },
    {
     "name": "stderr",
     "output_type": "stream",
     "text": [
      "Ivy Default Cache set to: /home/yanarcanjo/.ivy2/cache\n",
      "The jars for the packages stored in: /home/yanarcanjo/.ivy2/jars\n",
      "io.delta#delta-core_2.12 added as a dependency\n",
      ":: resolving dependencies :: org.apache.spark#spark-submit-parent-48f33895-0a79-4ef7-b119-3bfda63c9f2b;1.0\n",
      "\tconfs: [default]\n",
      "\tfound io.delta#delta-core_2.12;2.4.0 in central\n",
      "\tfound io.delta#delta-storage;2.4.0 in central\n",
      "\tfound org.antlr#antlr4-runtime;4.9.3 in central\n",
      ":: resolution report :: resolve 239ms :: artifacts dl 19ms\n",
      "\t:: modules in use:\n",
      "\tio.delta#delta-core_2.12;2.4.0 from central in [default]\n",
      "\tio.delta#delta-storage;2.4.0 from central in [default]\n",
      "\torg.antlr#antlr4-runtime;4.9.3 from central in [default]\n",
      "\t---------------------------------------------------------------------\n",
      "\t|                  |            modules            ||   artifacts   |\n",
      "\t|       conf       | number| search|dwnlded|evicted|| number|dwnlded|\n",
      "\t---------------------------------------------------------------------\n",
      "\t|      default     |   3   |   0   |   0   |   0   ||   3   |   0   |\n",
      "\t---------------------------------------------------------------------\n",
      ":: retrieving :: org.apache.spark#spark-submit-parent-48f33895-0a79-4ef7-b119-3bfda63c9f2b\n",
      "\tconfs: [default]\n",
      "\t0 artifacts copied, 3 already retrieved (0kB/11ms)\n",
      "25/06/21 15:30:57 WARN NativeCodeLoader: Unable to load native-hadoop library for your platform... using builtin-java classes where applicable\n",
      "Setting default log level to \"WARN\".\n",
      "To adjust logging level use sc.setLogLevel(newLevel). For SparkR, use setLogLevel(newLevel).\n",
      "25/06/21 15:31:00 WARN Utils: Service 'SparkUI' could not bind on port 4040. Attempting port 4041.\n",
      "2025-06-21 15:31:02,415 - INFO - Criação da Spark Session Finalizada\n",
      "2025-06-21 15:31:02,417 - INFO - Inicio do processamento para coingecko as 2025-06-21 15:30:51\n",
      "2025-06-21 15:31:02,420 - INFO - Lendo delta bronze -> /mnt/c/Users/arcan/Documents/airflow/data/2-bronze/coingecko...\n",
      "2025-06-21 15:31:19,625 - INFO - Selecionando os registros mais recentes de cada hash chave\n",
      "2025-06-21 15:31:20,190 - INFO - Filtrando os dados que necessitam ser atualizados ou inseridos\n",
      "2025-06-21 15:31:20,292 - ERROR - Erro na execução: 'DataFrame' object has no attribute 'hash_colums'\n"
     ]
    }
   ],
   "source": [
    "from pyspark.sql import SparkSession\n",
    "from pyspark.sql.functions import col, lit, row_number, upper, when, trim\n",
    "from pyspark.sql.window import Window\n",
    "from delta import *\n",
    "import sys\n",
    "from datetime import datetime\n",
    "import logging\n",
    "\n",
    "# process = sys.argv[1]\n",
    "process = \"coingecko\"\n",
    "\n",
    "# Configuração do logging\n",
    "logging.basicConfig(level=logging.INFO, format=\"%(asctime)s - %(levelname)s - %(message)s\")\n",
    "\n",
    "# Definição de variáveis temporais para controle de execução\n",
    "date_time_exec = datetime.now()                                                # Timestamp da execução atual\n",
    "data_hora_inicio_file = date_time_exec.strftime(\"%Y%m%d_%H%M%S\")              # Formato para nomes de arquivo: 20240501_130511\n",
    "data_hora_inicio_format_db = date_time_exec.strftime(\"%Y-%m-%d %H:%M:%S\")      # Formato para banco: 2024-05-01 13:05:11\n",
    "\n",
    "input_path = f\"/mnt/c/Users/arcan/Documents/airflow/data/2-bronze/{process}\"\n",
    "output_path = f\"/mnt/c/Users/arcan/Documents/airflow/data/3-silver/{process}\"\n",
    "log_file_path = f\"/mnt/c/Users/arcan/Documents/airflow/data/5-logs/2-silver/{process}\"\n",
    "\n",
    "logging.info(\"Iniciando criação da Spark Session\")\n",
    "\n",
    "spark = SparkSession.builder \\\n",
    "    .appName(\"Spark - Silver\") \\\n",
    "    .master(\"local[*]\") \\\n",
    "    .config(\"spark.jars.packages\", \"io.delta:delta-core_2.12:2.4.0\") \\\n",
    "    .config(\"spark.sql.extensions\", \"io.delta.sql.DeltaSparkSessionExtension\") \\\n",
    "    .config(\"spark.sql.catalog.spark_catalog\", \"org.apache.spark.sql.delta.catalog.DeltaCatalog\") \\\n",
    "    .getOrCreate() \n",
    "\n",
    "logging.info(\"Criação da Spark Session Finalizada\")\n",
    "\n",
    "logging.info(f'Inicio do processamento para {process} as {data_hora_inicio_format_db}')\n",
    "\n",
    "try:\n",
    "    # Leitura da Delta table e guarda ordem de colunas\n",
    "    logging.info(f\"Lendo delta bronze -> {input_path}...\")\n",
    "    df_bronze = DeltaTable.forPath(spark, input_path).toDF()\n",
    "    initial_column_order = df_bronze.columns \n",
    "\n",
    "    #Seleciona os registros mais recentes de cada hash chave\n",
    "    logging.info('Selecionando os registros mais recentes de cada hash chave')\n",
    "    df_bronze = df_bronze.withColumn(\"dt_atualizacao\", col(\"dt_atualizacao\").cast(\"timestamp\"))\n",
    "    window_spec = Window.partitionBy(\"hash_chave\").orderBy(col(\"dt_atualizacao\").desc())\n",
    "    df_bronze = df_bronze.withColumn(\"rank_hash_chave\", row_number().over(window_spec)).filter(col(\"rank_hash_chave\") == 1).drop(\"rank_hash_chave\")\n",
    "\n",
    "    # Pega apenas as linhas que existem alguma alteração\n",
    "    if DeltaTable.isDeltaTable(spark, output_path):\n",
    "        logging.info('Filtrando os dados que necessitam ser atualizados ou inseridos')\n",
    "        df_silver_original = spark.read.format(\"delta\").load(output_path)\n",
    "        df_silver_new = df_bronze.join(df_silver_original, df_bronze.hash_colums == df_silver_original.hash_columns, \"left_anti\")\n",
    "    else:\n",
    "        logging.info('A tabela silver não existe, será criada com todos os registros.')\n",
    "        df_silver_new = df_bronze\n",
    "\n",
    "    # Identifica as colunas do tipo string e aplica a transformação\n",
    "    string_cols = [field.name for field in df_silver_new.schema.fields if str(field.dataType) == \"StringType()\" and field.name not in ['hash_columns','hash_chave']]\n",
    "    for col_name in string_cols:\n",
    "        df_silver_new = df_silver_new.withColumn(col_name, trim(upper(when(col(col_name) == '', None).otherwise(col(col_name)))))\n",
    "\n",
    "    df_silver_new = df_silver_new.drop('key_log_file_path','dt_atualizacao','dt_ingestao','nm_arquivo_origem')\n",
    "\n",
    "    #Adiciona coluna de ID de log\n",
    "    df_silver_new = df_silver_new.withColumns({\n",
    "        \"key_log_file_path\": lit(f'{log_file_path}_{data_hora_inicio_file}'),\n",
    "        \"dt_atualizacao\": lit(data_hora_inicio_format_db),\n",
    "        \"dt_ingestao\": lit(datetime.now().strftime(\"%Y-%m-%d\")),\n",
    "        \"nm_arquivo_origem\": lit(input_path),\n",
    "        })\n",
    "\n",
    "    if DeltaTable.isDeltaTable(spark, output_path):\n",
    "        logging.info('Realizando Merge para atualizar silver')\n",
    "        df_silver = DeltaTable.forPath(spark, output_path)\n",
    "        # Atualiza dados da silver com merge\n",
    "        df_silver.alias(\"silver\")\\\n",
    "            .merge(df_silver_new.alias(\"bronze\"), \"silver.hash_chave = bronze.hash_chave\") \\\n",
    "            .whenNotMatchedInsertAll()\\\n",
    "            .whenMatchedUpdateAll()\\\n",
    "            .execute()\n",
    "\n",
    "    else:\n",
    "        # Inserindo todos os registros com append, pois é uma tabela nova\n",
    "        logging.info('Inserindo todos os registros pois é uma nova tabela')\n",
    "        df_silver_new.write.format('delta').mode(\"append\").option(\"mergeSchema\", \"true\").save(output_path)\n",
    "\n",
    "except Exception as e:\n",
    "    logging.error(f\"Erro na execução: {e}\")"
   ]
  },
  {
   "cell_type": "code",
   "execution_count": 11,
   "id": "6669b313",
   "metadata": {},
   "outputs": [],
   "source": [
    "log_df = spark.read.format(\"delta\").load(\"/mnt/c/Users/arcan/Documents/airflow/data/5-logs/2-silver/coingecko\")"
   ]
  },
  {
   "cell_type": "code",
   "execution_count": 13,
   "id": "cf4b06a6",
   "metadata": {},
   "outputs": [
    {
     "name": "stdout",
     "output_type": "stream",
     "text": [
      "+-----------------------------------------------------------------------------------+--------------------+----------+-------------------+-------------------+-------+-------------------------------------------------------------+------------------------------------------------------------+------------------------------------------------------------+----------------+---------------+--------------------+-------------------+-------------------+-------------------+---------------------+-------------------+-----------------------+---------------------+--------------------+-------------------+-------------------------+-----------------------+\n",
      "|id_log_file_path                                                                   |process_name        |date_run  |start_time_script  |end_time_script    |status |msg                                                          |input_path                                                  |output_path                                                 |records_inserted|records_updated|start_bronze_reading|end_bronze_reading |start_filter_data  |end_filter_data    |start_filter_new_data|end_filter_new_data|start_transform_strings|end_transform_strings|start_add_column_log|end_add_column_log |start_update_delta_silver|end_update_delta_silver|\n",
      "+-----------------------------------------------------------------------------------+--------------------+----------+-------------------+-------------------+-------+-------------------------------------------------------------+------------------------------------------------------------+------------------------------------------------------------+----------------+---------------+--------------------+-------------------+-------------------+-------------------+---------------------+-------------------+-----------------------+---------------------+--------------------+-------------------+-------------------------+-----------------------+\n",
      "|/mnt/c/Users/arcan/Documents/airflow/data/5-logs/2-silver/coingecko_20250621_162936|SILVER_LOG_coingecko|2025-06-21|2025-06-21 16:29:36|2025-06-21 16:30:18|SUCESSO|EXECUTADO COM SUCESSO                                        |/mnt/c/Users/arcan/Documents/airflow/data/2-bronze/coingecko|/mnt/c/Users/arcan/Documents/airflow/data/3-silver/coingecko|0               |0              |2025-06-21 16:29:41 |2025-06-21 16:29:58|2025-06-21 16:29:58|2025-06-21 16:29:58|2025-06-21 16:29:58  |2025-06-21 16:29:58|2025-06-21 16:29:58    |2025-06-21 16:29:59  |2025-06-21 16:29:59 |2025-06-21 16:29:59|2025-06-21 16:29:59      |2025-06-21 16:30:18    |\n",
      "|/mnt/c/Users/arcan/Documents/airflow/data/5-logs/2-silver/coingecko_20250621_161647|SILVER_LOG_coingecko|2025-06-21|2025-06-21 16:16:47|2025-06-21 16:17:11|ERRO   |MSG ERRO -> 'DataFrame' object has no attribute 'hash_colums'|/mnt/c/Users/arcan/Documents/airflow/data/2-bronze/coingecko|/mnt/c/Users/arcan/Documents/airflow/data/3-silver/coingecko|0               |0              |2025-06-21 16:16:51 |2025-06-21 16:17:10|2025-06-21 16:17:10|2025-06-21 16:17:10|2025-06-21 16:17:10  |                   |                       |                     |                    |                   |                         |                       |\n",
      "+-----------------------------------------------------------------------------------+--------------------+----------+-------------------+-------------------+-------+-------------------------------------------------------------+------------------------------------------------------------+------------------------------------------------------------+----------------+---------------+--------------------+-------------------+-------------------+-------------------+---------------------+-------------------+-----------------------+---------------------+--------------------+-------------------+-------------------------+-----------------------+\n",
      "\n"
     ]
    }
   ],
   "source": [
    "log_df.show(truncate=False)"
   ]
  },
  {
   "cell_type": "code",
   "execution_count": 15,
   "id": "a0ad8511",
   "metadata": {},
   "outputs": [],
   "source": [
    "silver_df = spark.read.format(\"delta\").load(\"/mnt/c/Users/arcan/Documents/airflow/data/3-silver/coingecko\")"
   ]
  },
  {
   "cell_type": "code",
   "execution_count": 16,
   "id": "ff90506f",
   "metadata": {},
   "outputs": [
    {
     "name": "stderr",
     "output_type": "stream",
     "text": [
      "                                                                                \r"
     ]
    },
    {
     "name": "stdout",
     "output_type": "stream",
     "text": [
      "+--------+---------------------+------------------------+----------+---------------------+------------------------+--------------------+-------------+-----------------------+--------+--------------------------------------------------+----------------------------------------------------------------------------------------------------+------------------------+--------+-----------+---------------------+--------------------------------+---------------+--------------------+--------------------------------------------------+---------------------+---------------------------+-------+--------------------+-------------+----------------------------------------------------------------+----------------------------------------------------------------+-----------------------------------------------------------------------------------+-------------------+-----------+------------------------------------------------------------+\n",
      "|ath     |ath_change_percentage|ath_date                |atl       |atl_change_percentage|atl_date                |circulating_supply  |current_price|fully_diluted_valuation|high_24h|id                                                |image                                                                                               |last_updated            |low_24h |market_cap |market_cap_change_24h|market_cap_change_percentage_24h|market_cap_rank|max_supply          |name                                              |price_change_24h     |price_change_percentage_24h|symbol |total_supply        |total_volume |hash_chave                                                      |hash_columns                                                    |key_log_file_path                                                                  |dt_atualizacao     |dt_ingestao|nm_arquivo_origem                                           |\n",
      "+--------+---------------------+------------------------+----------+---------------------+------------------------+--------------------+-------------+-----------------------+--------+--------------------------------------------------+----------------------------------------------------------------------------------------------------+------------------------+--------+-----------+---------------------+--------------------------------+---------------+--------------------+--------------------------------------------------+---------------------+---------------------------+-------+--------------------+-------------+----------------------------------------------------------------+----------------------------------------------------------------+-----------------------------------------------------------------------------------+-------------------+-----------+------------------------------------------------------------+\n",
      "|11.74   |-92.87472            |2024-03-10T00:10:42.330Z|0.583741  |43.30858             |2025-04-07T07:06:11.379Z|1.633961771739971E9 |0.836487     |8364972728             |0.90052 |WORLDCOIN-WLD                                     |HTTPS://COIN-IMAGES.COINGECKO.COM/COINS/IMAGES/31069/LARGE/WORLDCOIN.JPEG?1696529903                |2025-06-21T19:26:41.156Z|0.835685|1366804566 |-8.884241370544171E7 |-6.10329                        |76             |1.0E10              |WORLDCOIN                                         |-0.053178001431371524|-5.9773                    |WLD    |1.0E10              |1.05132998E8 |05df50c03e112a95bec353271c3a67fc0f77786c5599be337936b0c9c3b5419c|ea3dced584c3a198a64c6a494236aaa090442d4373bb3c36c4476fdcabc1d07f|/mnt/c/Users/arcan/Documents/airflow/data/5-logs/2-silver/coingecko_20250621_162936|2025-06-21 16:29:36|2025-06-21 |/mnt/c/Users/arcan/Documents/airflow/data/2-bronze/coingecko|\n",
      "|0.100535|-25.19384            |2024-12-04T10:13:57.264Z|0.03582727|109.91425            |2025-02-03T05:01:48.626Z|2.130910994061439E10|0.075349     |2151571145             |0.078215|SKY                                               |HTTPS://COIN-IMAGES.COINGECKO.COM/COINS/IMAGES/39925/LARGE/SKY.JPG?1724827980                       |2025-06-21T19:26:41.992Z|0.074987|1605127741 |-3.541202144825721E7 |-2.15856                        |63             |null                |SKY                                               |-0.001704128681566816|-2.21163                   |SKY    |2.856349991774143E10|6009507.0    |05f514fae7ca5710f9e9289a20a5c9b372af781bfc94dd23d9cb8a044122460f|9f1067dfded83b421090024dd99be7a90e1e2c2643dc08b0be52a1d481ca5ad6|/mnt/c/Users/arcan/Documents/airflow/data/5-logs/2-silver/coingecko_20250621_162936|2025-06-21 16:29:36|2025-06-21 |/mnt/c/Users/arcan/Documents/airflow/data/2-bronze/coingecko|\n",
      "|73.43   |-87.67213            |2025-01-19T11:50:34.806Z|4.29      |110.97922            |2025-01-18T03:40:29.231Z|1.99999975635993E8  |9.06         |9053429892             |9.36    |OFFICIAL-TRUMP                                    |HTTPS://COIN-IMAGES.COINGECKO.COM/COINS/IMAGES/53746/LARGE/TRUMP.PNG?1737171561                     |2025-06-21T19:26:43.367Z|8.98    |1810685758 |-3.84400609308753E7  |-2.07882                        |57             |1.0E9               |OFFICIAL TRUMP                                    |-0.1919876319100755  |-2.07493                   |TRUMP  |1.0E9               |2.05268661E8 |06e360a6a21d4fe0b438380d23fe07eda682ba5c061e31b0a95af9ef358ed641|bf54c39e25d9dc0b50f725c02ca1fe977a590db5e558c84057986f718f54ece5|/mnt/c/Users/arcan/Documents/airflow/data/5-logs/2-silver/coingecko_20250621_162936|2025-06-21 16:29:36|2025-06-21 |/mnt/c/Users/arcan/Documents/airflow/data/2-bronze/coingecko|\n",
      "|1.0     |0.0                  |2025-02-12T05:00:10.912Z|1.0       |0.0                  |2025-02-12T05:45:10.196Z|2.891612149223854E9 |1.0          |2891612149             |1.0     |BLACKROCK-USD-INSTITUTIONAL-DIGITAL-LIQUIDITY-FUND|HTTPS://COIN-IMAGES.COINGECKO.COM/COINS/IMAGES/36291/LARGE/BLACKROCK.PNG?1711013223                 |2025-06-21T19:25:09.970Z|1.0     |2891612149 |-4349513.6100001335  |-0.15019                        |42             |null                |BLACKROCK USD INSTITUTIONAL DIGITAL LIQUIDITY FUND|0.0                  |0.0                        |BUIDL  |2.891612149223854E9 |0.0          |0943e7c5ab8c82bf9363901ec726936628de0b202c26ad322aed891c17ae7a9f|b2ec08565a1b3ca913affcea12b7429002b0806232ba82e1711ba07c0dd30e22|/mnt/c/Users/arcan/Documents/airflow/data/5-logs/2-silver/coingecko_20250621_162936|2025-06-21 16:29:36|2025-06-21 |/mnt/c/Users/arcan/Documents/airflow/data/2-bronze/coingecko|\n",
      "|44.92   |-84.79035            |2021-05-03T05:25:04.822Z|1.03      |563.17945            |2020-09-17T01:20:38.214Z|6.0048307371E8      |6.84         |6823724699             |7.17    |UNISWAP                                           |HTTPS://COIN-IMAGES.COINGECKO.COM/COINS/IMAGES/12504/LARGE/UNISWAP-LOGO.PNG?1720676669              |2025-06-21T19:26:41.011Z|6.75    |4097531181 |-1.2089333494718409E8|-2.86584                        |35             |1.0E9               |UNISWAP                                           |-0.21459344892464483 |-3.04375                   |UNI    |1.0E9               |5.01933629E8 |0cb888d14a26697c116689ec90a252163136239564639c051971d681a7d80dac|897a84a3e73cb5acda975f4462c1727077ca7b095f3f4153e4893115daec0233|/mnt/c/Users/arcan/Documents/airflow/data/5-logs/2-silver/coingecko_20250621_162936|2025-06-21 16:29:36|2025-06-21 |/mnt/c/Users/arcan/Documents/airflow/data/2-bronze/coingecko|\n",
      "|4799.89 |-50.20354            |2021-11-09T00:00:00.000Z|82.1      |2811.17853           |2018-12-15T00:00:00.000Z|2633449.676527355   |2396.92      |6293886903             |2447.71 |WETH                                              |HTTPS://COIN-IMAGES.COINGECKO.COM/COINS/IMAGES/2518/LARGE/WETH.PNG?1696503332                       |2025-06-21T19:26:41.498Z|2385.35 |6293886903 |-1.9090315263835907E7|-0.3024                         |25             |null                |WETH                                              |-10.747415748991898  |-0.44638                   |WETH   |2633449.676527355   |3.1818529E8  |11a8ecce39c024544e74540571098f9709ee36c22e78eab83724e085141a95ec|fa046e5973568f3a2ead77282f6615170a713bce7937e9c6cd5d5958a8599038|/mnt/c/Users/arcan/Documents/airflow/data/5-logs/2-silver/coingecko_20250621_162936|2025-06-21 16:29:36|2025-06-21 |/mnt/c/Users/arcan/Documents/airflow/data/2-bronze/coingecko|\n",
      "|5.03    |-15.24866            |2025-01-19T14:31:08.348Z|0.146839  |2801.64533           |2023-11-24T05:55:06.706Z|3.42626121504683E8  |4.26         |1459885514             |4.32    |JUPITER-PERPETUALS-LIQUIDITY-PROVIDER-TOKEN       |HTTPS://COIN-IMAGES.COINGECKO.COM/COINS/IMAGES/33094/LARGE/JLP.PNG?1700631386                       |2025-06-21T19:26:46.698Z|4.25    |1459885514 |-4110825.7623882294  |-0.28079                        |69             |null                |JUPITER PERPETUALS LIQUIDITY PROVIDER TOKEN       |-0.005818701724226827|-0.13638                   |JLP    |3.42626121504683E8  |2.6363371E7  |11fc970db3263366e17b5375710e2606f78cc9b8f1af8a481f3d0c1f569a2b8e|df66fa200c6005ce2b5ff752e790aba1ee051587c61e7e08188ee100f96b7780|/mnt/c/Users/arcan/Documents/airflow/data/5-logs/2-silver/coingecko_20250621_162936|2025-06-21 16:29:36|2025-06-21 |/mnt/c/Users/arcan/Documents/airflow/data/2-bronze/coingecko|\n",
      "|20.85   |-92.73058            |2024-02-10T14:30:02.495Z|1.51      |0.08004              |2025-06-21T19:16:30.492Z|6.8090129739998E8   |1.52         |1712344694             |1.61    |CELESTIA                                          |HTTPS://COIN-IMAGES.COINGECKO.COM/COINS/IMAGES/31967/LARGE/TIA.JPG?1696530772                       |2025-06-21T19:26:40.845Z|1.51    |1031938802 |-4.414400135518718E7 |-4.10229                        |86             |null                |CELESTIA                                          |-0.06673671983389329 |-4.21746                   |TIA    |1.129851616437975E9 |4.8555857E7  |13569e544705849042059c1e3092cd39a934f4501f3078b0218a8e688cbfd0f9|253625712ce290206ec5a433595ffd2f0a36b71a004b7dc6e7e9196de3216e28|/mnt/c/Users/arcan/Documents/airflow/data/5-logs/2-silver/coingecko_20250621_162936|2025-06-21 16:29:36|2025-06-21 |/mnt/c/Users/arcan/Documents/airflow/data/2-bronze/coingecko|\n",
      "|2.39    |-88.36863            |2024-01-12T12:29:59.231Z|0.245747  |13.13366             |2025-04-07T07:01:34.124Z|4.963238296E9       |0.278288     |2782061146             |0.293087|ARBITRUM                                          |HTTPS://COIN-IMAGES.COINGECKO.COM/COINS/IMAGES/16547/LARGE/ARB.JPG?1721358242                       |2025-06-21T19:26:40.891Z|0.277863|1380803242 |-6.3015883116573334E7|-4.36453                        |74             |1.0E10              |ARBITRUM                                          |-0.012015726149074368|-4.13902                   |ARB    |1.0E10              |1.5576938E8  |143b9b70edf76467d576ad45e2efa5cfbacb2c63bf0f3ed9bcb8c9f17adcb89e|c22470e070ce09d78a16719e63565293781411462d0a52d54ea5cd6f9cc82765|/mnt/c/Users/arcan/Documents/airflow/data/5-logs/2-silver/coingecko_20250621_162936|2025-06-21 16:29:36|2025-06-21 |/mnt/c/Users/arcan/Documents/airflow/data/2-bronze/coingecko|\n",
      "|1.021   |-2.08783             |2023-10-23T22:44:57.056Z|0.959426  |4.16916              |2024-12-05T22:31:13.430Z|9.89495622730118E8  |0.999437     |988922068              |0.999927|PAYPAL-USD                                        |HTTPS://COIN-IMAGES.COINGECKO.COM/COINS/IMAGES/31212/LARGE/PYUSD_LOGO_%282%29.PNG?1696530039        |2025-06-21T19:26:40.769Z|0.999224|988922068  |3.9666098E7          |4.17865                         |91             |null                |PAYPAL USD                                        |-2.6594860035978E-5  |-0.00266                   |PYUSD  |9.89495622730118E8  |7577512.0    |14a012d96cf1f69dc7a012c4a3017557b1c775b61c2b71c794b51cbdd01bd9d9|1f4711ef312ba001fd7f301993a63976340587751ce0600969f8fe5f46427ebc|/mnt/c/Users/arcan/Documents/airflow/data/5-logs/2-silver/coingecko_20250621_162936|2025-06-21 16:29:36|2025-06-21 |/mnt/c/Users/arcan/Documents/airflow/data/2-bronze/coingecko|\n",
      "|28.83   |-61.97428            |2021-12-01T15:09:35.541Z|0.342863  |3097.42026           |2019-02-07T00:00:00.000Z|1.249672217819991E8 |10.97        |1561749398             |11.05   |KUCOIN-SHARES                                     |HTTPS://COIN-IMAGES.COINGECKO.COM/COINS/IMAGES/1047/LARGE/SA9Z79.PNG?1696502152                     |2025-06-21T19:26:40.568Z|10.94   |1369911485 |-1565437.4755756855  |-0.11414                        |75             |null                |KUCOIN                                            |-0.017366019994181414|-0.15811                   |KCS    |1.424672217819991E8 |3555979.0    |1798a0a2c5a2ab5372b83acf045bd2597397093b96a3fd6d657faf97ccc71f89|c320e57014d89ee15c614777d19d86680a7f84ed91cb75db59767e1db2a4a49c|/mnt/c/Users/arcan/Documents/airflow/data/5-logs/2-silver/coingecko_20250621_162936|2025-06-21 16:29:36|2025-06-21 |/mnt/c/Users/arcan/Documents/airflow/data/2-bronze/coingecko|\n",
      "|700.65  |-99.31877            |2021-05-10T16:05:53.653Z|2.87      |66.59586             |2023-09-22T00:29:57.369Z|5.347747944434798E8 |4.78         |2552171839             |5.01    |INTERNET-COMPUTER                                 |HTTPS://COIN-IMAGES.COINGECKO.COM/COINS/IMAGES/14495/LARGE/INTERNET_COMPUTER_LOGO.PNG?1696514180    |2025-06-21T19:26:46.645Z|4.76    |2552171839 |-9.436381726024294E7 |-3.56556                        |47             |null                |INTERNET COMPUTER                                 |-0.17742787673427962 |-3.58067                   |ICP    |5.347747944434798E8 |4.2162783E7  |18d4edafb9dffd185810161c9361c3bc5d63c12f60ea0652feae95b816bd8d94|f05930aba4a844bc9e35e61e9b5d7233ed05928f23ac5da15007d15fb0587ed3|/mnt/c/Users/arcan/Documents/airflow/data/5-logs/2-silver/coingecko_20250621_162936|2025-06-21 16:29:36|2025-06-21 |/mnt/c/Users/arcan/Documents/airflow/data/2-bronze/coingecko|\n",
      "|661.69  |-63.25531            |2021-05-18T21:19:59.514Z|26.02     |834.30648            |2020-11-05T09:20:11.928Z|1.5161732698660992E7|243.07       |3889253600             |251.62  |AAVE                                              |HTTPS://COIN-IMAGES.COINGECKO.COM/COINS/IMAGES/12645/LARGE/AAVE-TOKEN-ROUND.PNG?1720472354          |2025-06-21T19:26:40.340Z|241.15  |3685488968 |-4.187830649191475E7 |-1.12354                        |39             |1.6E7               |AAVE                                              |-3.122285458819789   |-1.26823                   |AAVE   |1.6E7               |2.71980728E8 |1a11bddc4396ca460d2996b1a1bc6ee02477089fe30b514532bb72dad42789e2|2d4a29808958634e1d1415fe2f3b95ebf2798ba8d92c8d28c4a428980dc3dd4a|/mnt/c/Users/arcan/Documents/airflow/data/5-logs/2-silver/coingecko_20250621_162936|2025-06-21 16:29:36|2025-06-21 |/mnt/c/Users/arcan/Documents/airflow/data/2-bronze/coingecko|\n",
      "|4098.26 |-41.5189             |2024-12-06T20:27:27.286Z|1394.32   |71.891               |2025-04-09T01:32:41.942Z|604999.999959841    |2398.19      |1446446477             |2445.43 |BINANCE-PEG-WETH                                  |HTTPS://COIN-IMAGES.COINGECKO.COM/COINS/IMAGES/39580/LARGE/WETH.PNG?1723006716                      |2025-06-21T19:26:40.674Z|2388.7  |1446446477 |-8921695.18320489    |-0.61302                        |71             |null                |BINANCE-PEG WETH                                  |-9.22478735648292    |-0.38318                   |WETH   |604999.999959841    |2.7002525E7  |20a978ec7bc62a5d858c34dad3022f99d5eac9cb6830748bddb46b6de2e4b30e|9f1545d54a0bf3377c83a6d93ade91940809306bf1d5b1c32bb5e03351454da9|/mnt/c/Users/arcan/Documents/airflow/data/5-logs/2-silver/coingecko_20250621_162936|2025-06-21 16:29:36|2025-06-21 |/mnt/c/Users/arcan/Documents/airflow/data/2-bronze/coingecko|\n",
      "|5.825E-5|-77.91528            |2024-11-20T04:01:06.465Z|8.6142E-8 |14833.84738          |2022-12-29T22:48:46.755Z|7.741959232943658E13|1.287E-5     |1142479074             |1.378E-5|BONK                                              |HTTPS://COIN-IMAGES.COINGECKO.COM/COINS/IMAGES/28600/LARGE/BONK.JPG?1696527587                      |2025-06-21T19:26:44.439Z|1.282E-5|996078622  |-4.6072257422569156E7|-4.42088                        |90             |8.879847655886053E13|BONK                                              |-5.81242263245E-7    |-4.32071                   |BONK   |8.879847655886053E13|9.8043916E7  |21749f1628aa21d31e1b225048909f410a3335192abf7c1558836fbbb6310328|c5c4b04c8b63c2c719545b13dfdad8e6156e69ac67db24ef98d6bbdeedea23b0|/mnt/c/Users/arcan/Documents/airflow/data/5-logs/2-silver/coingecko_20250621_162936|2025-06-21 16:29:36|2025-06-21 |/mnt/c/Users/arcan/Documents/airflow/data/2-bronze/coingecko|\n",
      "|1.025   |-2.294               |2025-05-12T12:36:39.412Z|0.989703  |1.17342              |2025-04-16T00:36:15.580Z|2.204087586E9       |0.999612     |2204151223             |1.002   |USD1-WLFI                                         |HTTPS://COIN-IMAGES.COINGECKO.COM/COINS/IMAGES/54977/LARGE/USD1_1000X1000_TRANSPARENT.PNG?1749297002|2025-06-21T19:26:40.668Z|0.997855|2204151223 |1025517.0            |0.04655                         |53             |null                |USD1                                              |4.7231E-4            |0.04727                    |USD1   |2.204087586E9       |5.03433244E8 |22e9cf436be31fc117d1342192b2690152590b2233380d30bca685bdac1d9558|36f4a452f06b60d7b63d7443e3349ebb479dc3898d4722af56063699c39ea369|/mnt/c/Users/arcan/Documents/airflow/data/5-logs/2-silver/coingecko_20250621_162936|2025-06-21 16:29:36|2025-06-21 |/mnt/c/Users/arcan/Documents/airflow/data/2-bronze/coingecko|\n",
      "|1.17    |-14.74319            |2019-05-08T00:40:28.300Z|0.877647  |13.91963             |2023-03-11T08:02:13.981Z|6.125748062206691E10|0.999817     |61246596213            |0.999902|USD-COIN                                          |HTTPS://COIN-IMAGES.COINGECKO.COM/COINS/IMAGES/6319/LARGE/USDC.PNG?1696506694                       |2025-06-21T19:26:42.664Z|0.999703|61246596213|-2.514272304727173E7 |-0.04103                        |7              |null                |USDC                                              |8.14E-6              |8.1E-4                     |USDC   |6.125748062206691E10|3.446057907E9|230ff45bb8b702d203d98bf1b5a6ef6b645749eb5708810edaac7e2d33c7ce10|2999d18ffb4b161c0a87d7feb46f86be8563f4a3406417343354a1ddf62da463|/mnt/c/Users/arcan/Documents/airflow/data/5-logs/2-silver/coingecko_20250621_162936|2025-06-21 16:29:36|2025-06-21 |/mnt/c/Users/arcan/Documents/airflow/data/2-bronze/coingecko|\n",
      "|0.875563|-72.75408            |2018-01-03T00:00:00.000Z|4.7612E-4 |50003.64244          |2015-03-05T00:00:00.000Z|3.12120710512548E10 |0.238648     |11932829580            |0.244669|STELLAR                                           |HTTPS://COIN-IMAGES.COINGECKO.COM/COINS/IMAGES/100/LARGE/FMPFRHHQ_400X400.JPG?1735231350            |2025-06-21T19:26:40.234Z|0.23851 |7448700293 |-9.702068288309956E7 |-1.28577                        |19             |5.000178689281785E10|STELLAR                                           |-0.003095919955991927|-1.28066                   |XLM    |5.000178689281785E10|1.00781611E8 |232ed6f9fabf14e3bb55392b18cfe3d0febc94d20cc6327c38a1d075d6ea118c|20b58882ed898394bc57eb278e37c6800fe233886bd2226e3a08884c7b10f4d6|/mnt/c/Users/arcan/Documents/airflow/data/5-logs/2-silver/coingecko_20250621_162936|2025-06-21 16:29:36|2025-06-21 |/mnt/c/Users/arcan/Documents/airflow/data/2-bronze/coingecko|\n",
      "|5.35    |-51.53303            |2025-01-04T22:56:18.063Z|0.364846  |610.24952            |2023-10-19T10:40:30.078Z|3.396671135364443E9 |2.59         |25902883785            |2.77    |SUI                                               |HTTPS://COIN-IMAGES.COINGECKO.COM/COINS/IMAGES/26375/LARGE/SUI-OCEAN-SQUARE.PNG?1727791290          |2025-06-21T19:26:40.558Z|2.59    |8798357768 |-4.14714488567606E8  |-4.50137                        |16             |1.0E10              |SUI                                               |-0.11924061059048796 |-4.39728                   |SUI    |1.0E10              |6.07472169E8 |244e4b24e667ebf0ca798e496f1008b7389503c6a3975d0562e907f93997fdca|d1318e33d55ad5895e6a7f9abeec094a6e3e90d7d4e30ed57bd862e9ac673a56|/mnt/c/Users/arcan/Documents/airflow/data/5-logs/2-silver/coingecko_20250621_162936|2025-06-21 16:29:36|2025-06-21 |/mnt/c/Users/arcan/Documents/airflow/data/2-bronze/coingecko|\n",
      "|5.07    |-72.41138            |2025-01-02T06:15:38.599Z|0.00748604|18566.29767          |2024-01-23T20:55:21.653Z|6.548656182293383E8 |1.4          |1396698614             |1.58    |VIRTUAL-PROTOCOL                                  |HTTPS://COIN-IMAGES.COINGECKO.COM/COINS/IMAGES/34057/LARGE/LOGOMARK.PNG?1708356054                  |2025-06-21T19:26:41.475Z|1.4     |914649901  |-9.994919463746238E7 |-9.8511                         |94             |1.0E9               |VIRTUALS PROTOCOL                                 |-0.1491332624723396  |-9.64329                   |VIRTUAL|1.0E9               |1.42985203E8 |25a2e2d309e240686c5bcbdbddbfb2d4bc252cc15c7da43d96025e0647ea5bd0|9253d01481909120d556fb164e7b9c529d721e7796c880e17c60a6f4441f0850|/mnt/c/Users/arcan/Documents/airflow/data/5-logs/2-silver/coingecko_20250621_162936|2025-06-21 16:29:36|2025-06-21 |/mnt/c/Users/arcan/Documents/airflow/data/2-bronze/coingecko|\n",
      "+--------+---------------------+------------------------+----------+---------------------+------------------------+--------------------+-------------+-----------------------+--------+--------------------------------------------------+----------------------------------------------------------------------------------------------------+------------------------+--------+-----------+---------------------+--------------------------------+---------------+--------------------+--------------------------------------------------+---------------------+---------------------------+-------+--------------------+-------------+----------------------------------------------------------------+----------------------------------------------------------------+-----------------------------------------------------------------------------------+-------------------+-----------+------------------------------------------------------------+\n",
      "only showing top 20 rows\n",
      "\n"
     ]
    }
   ],
   "source": [
    "silver_df.show(truncate=False)"
   ]
  }
 ],
 "metadata": {
  "kernelspec": {
   "display_name": ".venv",
   "language": "python",
   "name": "python3"
  },
  "language_info": {
   "codemirror_mode": {
    "name": "ipython",
    "version": 3
   },
   "file_extension": ".py",
   "mimetype": "text/x-python",
   "name": "python",
   "nbconvert_exporter": "python",
   "pygments_lexer": "ipython3",
   "version": "3.10.12"
  }
 },
 "nbformat": 4,
 "nbformat_minor": 5
}
